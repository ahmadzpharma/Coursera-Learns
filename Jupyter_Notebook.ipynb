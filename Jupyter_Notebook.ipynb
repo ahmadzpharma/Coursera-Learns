{
  "metadata": {
    "kernelspec": {
      "name": "python",
      "display_name": "Pyolite",
      "language": "python"
    },
    "language_info": {
      "codemirror_mode": {
        "name": "python",
        "version": 3
      },
      "file_extension": ".py",
      "mimetype": "text/x-python",
      "name": "python",
      "nbconvert_exporter": "python",
      "pygments_lexer": "ipython3",
      "version": "3.8"
    }
  },
  "nbformat_minor": 4,
  "nbformat": 4,
  "cells": [
    {
      "cell_type": "markdown",
      "source": "<center>\n    <img src=\"https://cf-courses-data.s3.us.cloud-object-storage.appdomain.cloud/IBMDeveloperSkillsNetwork-DS0105EN-SkillsNetwork/labs/Module2/images/SN_web_lightmode.png\" width=\"300\" alt=\"cognitiveclass.ai logo\"  />\n</center>\n",
      "metadata": {}
    },
    {
      "cell_type": "markdown",
      "source": "# My Jupyter Notebook on IBM Watson Studio",
      "metadata": {}
    },
    {
      "cell_type": "markdown",
      "source": "#### Add your code below following the instructions given in the course\n",
      "metadata": {}
    },
    {
      "cell_type": "markdown",
      "source": "<b> Shaik Basheer Ahmad",
      "metadata": {}
    },
    {
      "cell_type": "markdown",
      "source": "Configuration Specialist",
      "metadata": {}
    },
    {
      "cell_type": "markdown",
      "source": "*I am interested in data science because I have a passion for working for data-driven, innovative companies*",
      "metadata": {}
    },
    {
      "cell_type": "markdown",
      "source": "<b> The following Code is give addition of two values",
      "metadata": {}
    },
    {
      "cell_type": "code",
      "source": "print (7 + 8)",
      "metadata": {
        "trusted": true
      },
      "execution_count": 9,
      "outputs": [
        {
          "name": "stdout",
          "text": "15\n",
          "output_type": "stream"
        }
      ]
    },
    {
      "cell_type": "markdown",
      "source": "<b> Three Bulleted list ",
      "metadata": {}
    },
    {
      "cell_type": "markdown",
      "source": "- Datascience Tools",
      "metadata": {}
    },
    {
      "cell_type": "markdown",
      "source": "- Jupiter notebook",
      "metadata": {}
    },
    {
      "cell_type": "markdown",
      "source": "- Learn Python",
      "metadata": {}
    },
    {
      "cell_type": "markdown",
      "source": "#### Three Numbered list",
      "metadata": {}
    },
    {
      "cell_type": "markdown",
      "source": "1. AI",
      "metadata": {}
    },
    {
      "cell_type": "markdown",
      "source": "2. ML",
      "metadata": {}
    },
    {
      "cell_type": "markdown",
      "source": "3. Deep Learning",
      "metadata": {}
    },
    {
      "cell_type": "markdown",
      "source": "#### Hyper Links",
      "metadata": {}
    },
    {
      "cell_type": "markdown",
      "source": "[I'm an inline-style link](https://www.google.com)",
      "metadata": {}
    },
    {
      "cell_type": "markdown",
      "source": "[I'm an inline-style link with title](https://www.google.com \"Google's Homepage\")",
      "metadata": {}
    },
    {
      "cell_type": "markdown",
      "source": "Markdown | Less | Pretty\n--- | --- | ---\n*Bullets* | `Numbers` | **Links**\n3 | 3 | 2",
      "metadata": {}
    },
    {
      "cell_type": "markdown",
      "source": "> This is a very long line that will still be quoted properly when it wraps. Oh boy let's keep writing to make sure this is long enough to actually wrap for everyone. Oh, you can *put* **Markdown** into a blockquote. ",
      "metadata": {}
    },
    {
      "cell_type": "markdown",
      "source": "> Blockquotes are very handy in email to emulate reply text.",
      "metadata": {}
    },
    {
      "cell_type": "code",
      "source": "",
      "metadata": {},
      "execution_count": null,
      "outputs": []
    }
  ]
}